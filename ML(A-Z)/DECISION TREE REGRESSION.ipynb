{
 "cells": [
  {
   "cell_type": "code",
   "execution_count": 1,
   "metadata": {},
   "outputs": [],
   "source": [
    "import pandas as pd\n",
    "import numpy as np\n",
    "import matplotlib.pyplot as plt"
   ]
  },
  {
   "cell_type": "code",
   "execution_count": 2,
   "metadata": {},
   "outputs": [],
   "source": [
    "ds = pd.read_csv('Position_Salaries.csv')\n",
    "X = ds.iloc[:,1 : -1].values\n",
    "y = ds.iloc[:, -1].values"
   ]
  },
  {
   "cell_type": "code",
   "execution_count": 3,
   "metadata": {},
   "outputs": [
    {
     "name": "stdout",
     "output_type": "stream",
     "text": [
      "[[ 1]\n",
      " [ 2]\n",
      " [ 3]\n",
      " [ 4]\n",
      " [ 5]\n",
      " [ 6]\n",
      " [ 7]\n",
      " [ 8]\n",
      " [ 9]\n",
      " [10]]\n"
     ]
    }
   ],
   "source": [
    "print(X)"
   ]
  },
  {
   "cell_type": "code",
   "execution_count": 4,
   "metadata": {},
   "outputs": [
    {
     "name": "stdout",
     "output_type": "stream",
     "text": [
      "[  45000   50000   60000   80000  110000  150000  200000  300000  500000\n",
      " 1000000]\n"
     ]
    }
   ],
   "source": [
    "print(y)"
   ]
  },
  {
   "cell_type": "code",
   "execution_count": 5,
   "metadata": {},
   "outputs": [],
   "source": [
    "y = y.reshape(len(y),1)"
   ]
  },
  {
   "cell_type": "code",
   "execution_count": 6,
   "metadata": {},
   "outputs": [
    {
     "name": "stdout",
     "output_type": "stream",
     "text": [
      "[[  45000]\n",
      " [  50000]\n",
      " [  60000]\n",
      " [  80000]\n",
      " [ 110000]\n",
      " [ 150000]\n",
      " [ 200000]\n",
      " [ 300000]\n",
      " [ 500000]\n",
      " [1000000]]\n"
     ]
    }
   ],
   "source": [
    "print(y)"
   ]
  },
  {
   "cell_type": "code",
   "execution_count": 7,
   "metadata": {},
   "outputs": [],
   "source": [
    "from sklearn.tree import DecisionTreeRegressor"
   ]
  },
  {
   "cell_type": "code",
   "execution_count": 8,
   "metadata": {},
   "outputs": [],
   "source": [
    "regressor = DecisionTreeRegressor(random_state=0)"
   ]
  },
  {
   "cell_type": "code",
   "execution_count": 9,
   "metadata": {},
   "outputs": [
    {
     "data": {
      "text/plain": [
       "DecisionTreeRegressor(criterion='mse', max_depth=None, max_features=None,\n",
       "                      max_leaf_nodes=None, min_impurity_decrease=0.0,\n",
       "                      min_impurity_split=None, min_samples_leaf=1,\n",
       "                      min_samples_split=2, min_weight_fraction_leaf=0.0,\n",
       "                      presort=False, random_state=0, splitter='best')"
      ]
     },
     "execution_count": 9,
     "metadata": {},
     "output_type": "execute_result"
    }
   ],
   "source": [
    "regressor.fit(X,y)"
   ]
  },
  {
   "cell_type": "code",
   "execution_count": 10,
   "metadata": {},
   "outputs": [
    {
     "data": {
      "text/plain": [
       "array([150000.])"
      ]
     },
     "execution_count": 10,
     "metadata": {},
     "output_type": "execute_result"
    }
   ],
   "source": [
    "regressor.predict([[6.5]])"
   ]
  },
  {
   "cell_type": "code",
   "execution_count": 11,
   "metadata": {},
   "outputs": [],
   "source": [
    "X_grid = np.arange(min(X),max(X),0.1)"
   ]
  },
  {
   "cell_type": "code",
   "execution_count": 12,
   "metadata": {},
   "outputs": [],
   "source": [
    "X_grid = X_grid.reshape(len(X_grid),1)"
   ]
  },
  {
   "cell_type": "code",
   "execution_count": 13,
   "metadata": {},
   "outputs": [
    {
     "name": "stdout",
     "output_type": "stream",
     "text": [
      "[[1. ]\n",
      " [1.1]\n",
      " [1.2]\n",
      " [1.3]\n",
      " [1.4]\n",
      " [1.5]\n",
      " [1.6]\n",
      " [1.7]\n",
      " [1.8]\n",
      " [1.9]\n",
      " [2. ]\n",
      " [2.1]\n",
      " [2.2]\n",
      " [2.3]\n",
      " [2.4]\n",
      " [2.5]\n",
      " [2.6]\n",
      " [2.7]\n",
      " [2.8]\n",
      " [2.9]\n",
      " [3. ]\n",
      " [3.1]\n",
      " [3.2]\n",
      " [3.3]\n",
      " [3.4]\n",
      " [3.5]\n",
      " [3.6]\n",
      " [3.7]\n",
      " [3.8]\n",
      " [3.9]\n",
      " [4. ]\n",
      " [4.1]\n",
      " [4.2]\n",
      " [4.3]\n",
      " [4.4]\n",
      " [4.5]\n",
      " [4.6]\n",
      " [4.7]\n",
      " [4.8]\n",
      " [4.9]\n",
      " [5. ]\n",
      " [5.1]\n",
      " [5.2]\n",
      " [5.3]\n",
      " [5.4]\n",
      " [5.5]\n",
      " [5.6]\n",
      " [5.7]\n",
      " [5.8]\n",
      " [5.9]\n",
      " [6. ]\n",
      " [6.1]\n",
      " [6.2]\n",
      " [6.3]\n",
      " [6.4]\n",
      " [6.5]\n",
      " [6.6]\n",
      " [6.7]\n",
      " [6.8]\n",
      " [6.9]\n",
      " [7. ]\n",
      " [7.1]\n",
      " [7.2]\n",
      " [7.3]\n",
      " [7.4]\n",
      " [7.5]\n",
      " [7.6]\n",
      " [7.7]\n",
      " [7.8]\n",
      " [7.9]\n",
      " [8. ]\n",
      " [8.1]\n",
      " [8.2]\n",
      " [8.3]\n",
      " [8.4]\n",
      " [8.5]\n",
      " [8.6]\n",
      " [8.7]\n",
      " [8.8]\n",
      " [8.9]\n",
      " [9. ]\n",
      " [9.1]\n",
      " [9.2]\n",
      " [9.3]\n",
      " [9.4]\n",
      " [9.5]\n",
      " [9.6]\n",
      " [9.7]\n",
      " [9.8]\n",
      " [9.9]]\n"
     ]
    }
   ],
   "source": [
    "print(X_grid)"
   ]
  },
  {
   "cell_type": "code",
   "execution_count": 14,
   "metadata": {},
   "outputs": [
    {
     "data": {
      "image/png": "[encoded data removed]",
      "text/plain": [
       "<Figure size 432x288 with 1 Axes>"
      ]
     },
     "metadata": {
      "needs_background": "light"
     },
     "output_type": "display_data"
    }
   ],
   "source": [
    "plt.scatter(X,y,color = 'red')\n",
    "plt.plot(X_grid,regressor.predict(X_grid),color = 'blue')\n",
    "plt.title('DECISION TREE REGRESSION')\n",
    "plt.xlabel('position_level')\n",
    "plt.ylabel('salary')\n",
    "plt.show()"
   ]
  },
  {
   "cell_type": "code",
   "execution_count": null,
   "metadata": {},
   "outputs": [],
   "source": []
  }
 ],
 "metadata": {
  "kernelspec": {
   "display_name": "Python 3",
   "language": "python",
   "name": "python3"
  },
  "language_info": {
   "codemirror_mode": {
    "name": "ipython",
    "version": 3
   },
   "file_extension": ".py",
   "mimetype": "text/x-python",
   "name": "python",
   "nbconvert_exporter": "python",
   "pygments_lexer": "ipython3",
   "version": "3.7.6"
  }
 },
 "nbformat": 4,
 "nbformat_minor": 4
}
